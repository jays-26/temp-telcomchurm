{
 "cells": [
  {
   "cell_type": "code",
   "execution_count": 68,
   "id": "f6ad7566",
   "metadata": {},
   "outputs": [],
   "source": [
    "import numpy as np, pandas as pd"
   ]
  },
  {
   "cell_type": "code",
   "execution_count": 69,
   "id": "43780508",
   "metadata": {},
   "outputs": [],
   "source": [
    "df = pd.read_csv(\"train.csv\")"
   ]
  },
  {
   "cell_type": "code",
   "execution_count": 70,
   "id": "72163eba",
   "metadata": {},
   "outputs": [
    {
     "data": {
      "text/html": [
       "<div>\n",
       "<style scoped>\n",
       "    .dataframe tbody tr th:only-of-type {\n",
       "        vertical-align: middle;\n",
       "    }\n",
       "\n",
       "    .dataframe tbody tr th {\n",
       "        vertical-align: top;\n",
       "    }\n",
       "\n",
       "    .dataframe thead th {\n",
       "        text-align: right;\n",
       "    }\n",
       "</style>\n",
       "<table border=\"1\" class=\"dataframe\">\n",
       "  <thead>\n",
       "    <tr style=\"text-align: right;\">\n",
       "      <th></th>\n",
       "      <th>id</th>\n",
       "      <th>circle_id</th>\n",
       "      <th>loc_og_t2o_mou</th>\n",
       "      <th>std_og_t2o_mou</th>\n",
       "      <th>loc_ic_t2o_mou</th>\n",
       "      <th>last_date_of_month_6</th>\n",
       "      <th>last_date_of_month_7</th>\n",
       "      <th>last_date_of_month_8</th>\n",
       "      <th>arpu_6</th>\n",
       "      <th>arpu_7</th>\n",
       "      <th>...</th>\n",
       "      <th>sachet_3g_7</th>\n",
       "      <th>sachet_3g_8</th>\n",
       "      <th>fb_user_6</th>\n",
       "      <th>fb_user_7</th>\n",
       "      <th>fb_user_8</th>\n",
       "      <th>aon</th>\n",
       "      <th>aug_vbc_3g</th>\n",
       "      <th>jul_vbc_3g</th>\n",
       "      <th>jun_vbc_3g</th>\n",
       "      <th>churn_probability</th>\n",
       "    </tr>\n",
       "  </thead>\n",
       "  <tbody>\n",
       "    <tr>\n",
       "      <th>0</th>\n",
       "      <td>0</td>\n",
       "      <td>109</td>\n",
       "      <td>0.0</td>\n",
       "      <td>0.0</td>\n",
       "      <td>0.0</td>\n",
       "      <td>6/30/2014</td>\n",
       "      <td>7/31/2014</td>\n",
       "      <td>8/31/2014</td>\n",
       "      <td>31.277</td>\n",
       "      <td>87.009</td>\n",
       "      <td>...</td>\n",
       "      <td>0</td>\n",
       "      <td>0</td>\n",
       "      <td>NaN</td>\n",
       "      <td>NaN</td>\n",
       "      <td>NaN</td>\n",
       "      <td>1958</td>\n",
       "      <td>0.0</td>\n",
       "      <td>0.0</td>\n",
       "      <td>0.0</td>\n",
       "      <td>0</td>\n",
       "    </tr>\n",
       "    <tr>\n",
       "      <th>1</th>\n",
       "      <td>1</td>\n",
       "      <td>109</td>\n",
       "      <td>0.0</td>\n",
       "      <td>0.0</td>\n",
       "      <td>0.0</td>\n",
       "      <td>6/30/2014</td>\n",
       "      <td>7/31/2014</td>\n",
       "      <td>8/31/2014</td>\n",
       "      <td>0.000</td>\n",
       "      <td>122.787</td>\n",
       "      <td>...</td>\n",
       "      <td>0</td>\n",
       "      <td>0</td>\n",
       "      <td>NaN</td>\n",
       "      <td>1.0</td>\n",
       "      <td>NaN</td>\n",
       "      <td>710</td>\n",
       "      <td>0.0</td>\n",
       "      <td>0.0</td>\n",
       "      <td>0.0</td>\n",
       "      <td>0</td>\n",
       "    </tr>\n",
       "    <tr>\n",
       "      <th>2</th>\n",
       "      <td>2</td>\n",
       "      <td>109</td>\n",
       "      <td>0.0</td>\n",
       "      <td>0.0</td>\n",
       "      <td>0.0</td>\n",
       "      <td>6/30/2014</td>\n",
       "      <td>7/31/2014</td>\n",
       "      <td>8/31/2014</td>\n",
       "      <td>60.806</td>\n",
       "      <td>103.176</td>\n",
       "      <td>...</td>\n",
       "      <td>0</td>\n",
       "      <td>0</td>\n",
       "      <td>NaN</td>\n",
       "      <td>NaN</td>\n",
       "      <td>NaN</td>\n",
       "      <td>882</td>\n",
       "      <td>0.0</td>\n",
       "      <td>0.0</td>\n",
       "      <td>0.0</td>\n",
       "      <td>0</td>\n",
       "    </tr>\n",
       "    <tr>\n",
       "      <th>3</th>\n",
       "      <td>3</td>\n",
       "      <td>109</td>\n",
       "      <td>0.0</td>\n",
       "      <td>0.0</td>\n",
       "      <td>0.0</td>\n",
       "      <td>6/30/2014</td>\n",
       "      <td>7/31/2014</td>\n",
       "      <td>8/31/2014</td>\n",
       "      <td>156.362</td>\n",
       "      <td>205.260</td>\n",
       "      <td>...</td>\n",
       "      <td>0</td>\n",
       "      <td>0</td>\n",
       "      <td>NaN</td>\n",
       "      <td>NaN</td>\n",
       "      <td>NaN</td>\n",
       "      <td>982</td>\n",
       "      <td>0.0</td>\n",
       "      <td>0.0</td>\n",
       "      <td>0.0</td>\n",
       "      <td>0</td>\n",
       "    </tr>\n",
       "    <tr>\n",
       "      <th>4</th>\n",
       "      <td>4</td>\n",
       "      <td>109</td>\n",
       "      <td>0.0</td>\n",
       "      <td>0.0</td>\n",
       "      <td>0.0</td>\n",
       "      <td>6/30/2014</td>\n",
       "      <td>7/31/2014</td>\n",
       "      <td>8/31/2014</td>\n",
       "      <td>240.708</td>\n",
       "      <td>128.191</td>\n",
       "      <td>...</td>\n",
       "      <td>1</td>\n",
       "      <td>0</td>\n",
       "      <td>1.0</td>\n",
       "      <td>1.0</td>\n",
       "      <td>1.0</td>\n",
       "      <td>647</td>\n",
       "      <td>0.0</td>\n",
       "      <td>0.0</td>\n",
       "      <td>0.0</td>\n",
       "      <td>0</td>\n",
       "    </tr>\n",
       "  </tbody>\n",
       "</table>\n",
       "<p>5 rows × 172 columns</p>\n",
       "</div>"
      ],
      "text/plain": [
       "   id  circle_id  loc_og_t2o_mou  std_og_t2o_mou  loc_ic_t2o_mou  \\\n",
       "0   0        109             0.0             0.0             0.0   \n",
       "1   1        109             0.0             0.0             0.0   \n",
       "2   2        109             0.0             0.0             0.0   \n",
       "3   3        109             0.0             0.0             0.0   \n",
       "4   4        109             0.0             0.0             0.0   \n",
       "\n",
       "  last_date_of_month_6 last_date_of_month_7 last_date_of_month_8   arpu_6  \\\n",
       "0            6/30/2014            7/31/2014            8/31/2014   31.277   \n",
       "1            6/30/2014            7/31/2014            8/31/2014    0.000   \n",
       "2            6/30/2014            7/31/2014            8/31/2014   60.806   \n",
       "3            6/30/2014            7/31/2014            8/31/2014  156.362   \n",
       "4            6/30/2014            7/31/2014            8/31/2014  240.708   \n",
       "\n",
       "    arpu_7  ...  sachet_3g_7  sachet_3g_8  fb_user_6  fb_user_7  fb_user_8  \\\n",
       "0   87.009  ...            0            0        NaN        NaN        NaN   \n",
       "1  122.787  ...            0            0        NaN        1.0        NaN   \n",
       "2  103.176  ...            0            0        NaN        NaN        NaN   \n",
       "3  205.260  ...            0            0        NaN        NaN        NaN   \n",
       "4  128.191  ...            1            0        1.0        1.0        1.0   \n",
       "\n",
       "    aon  aug_vbc_3g  jul_vbc_3g  jun_vbc_3g  churn_probability  \n",
       "0  1958         0.0         0.0         0.0                  0  \n",
       "1   710         0.0         0.0         0.0                  0  \n",
       "2   882         0.0         0.0         0.0                  0  \n",
       "3   982         0.0         0.0         0.0                  0  \n",
       "4   647         0.0         0.0         0.0                  0  \n",
       "\n",
       "[5 rows x 172 columns]"
      ]
     },
     "execution_count": 70,
     "metadata": {},
     "output_type": "execute_result"
    }
   ],
   "source": [
    "df.head()"
   ]
  },
  {
   "cell_type": "markdown",
   "id": "f91a1129",
   "metadata": {},
   "source": [
    "## Reading and understand the data"
   ]
  },
  {
   "cell_type": "code",
   "execution_count": 71,
   "id": "cfe27599",
   "metadata": {},
   "outputs": [
    {
     "data": {
      "text/plain": [
       "(69999, 172)"
      ]
     },
     "execution_count": 71,
     "metadata": {},
     "output_type": "execute_result"
    }
   ],
   "source": [
    "df.shape"
   ]
  },
  {
   "cell_type": "code",
   "execution_count": 72,
   "id": "e9b38ed7",
   "metadata": {},
   "outputs": [
    {
     "name": "stdout",
     "output_type": "stream",
     "text": [
      "<class 'pandas.core.frame.DataFrame'>\n",
      "RangeIndex: 69999 entries, 0 to 69998\n",
      "Columns: 172 entries, id to churn_probability\n",
      "dtypes: float64(135), int64(28), object(9)\n",
      "memory usage: 91.9+ MB\n"
     ]
    }
   ],
   "source": [
    "df.info()"
   ]
  },
  {
   "cell_type": "code",
   "execution_count": 73,
   "id": "5692b87b",
   "metadata": {},
   "outputs": [
    {
     "data": {
      "text/html": [
       "<div>\n",
       "<style scoped>\n",
       "    .dataframe tbody tr th:only-of-type {\n",
       "        vertical-align: middle;\n",
       "    }\n",
       "\n",
       "    .dataframe tbody tr th {\n",
       "        vertical-align: top;\n",
       "    }\n",
       "\n",
       "    .dataframe thead th {\n",
       "        text-align: right;\n",
       "    }\n",
       "</style>\n",
       "<table border=\"1\" class=\"dataframe\">\n",
       "  <thead>\n",
       "    <tr style=\"text-align: right;\">\n",
       "      <th></th>\n",
       "      <th>null</th>\n",
       "    </tr>\n",
       "  </thead>\n",
       "  <tbody>\n",
       "    <tr>\n",
       "      <th>arpu_3g_6</th>\n",
       "      <td>74.9</td>\n",
       "    </tr>\n",
       "    <tr>\n",
       "      <th>count_rech_2g_6</th>\n",
       "      <td>74.9</td>\n",
       "    </tr>\n",
       "    <tr>\n",
       "      <th>night_pck_user_6</th>\n",
       "      <td>74.9</td>\n",
       "    </tr>\n",
       "    <tr>\n",
       "      <th>arpu_2g_6</th>\n",
       "      <td>74.9</td>\n",
       "    </tr>\n",
       "    <tr>\n",
       "      <th>date_of_last_rech_data_6</th>\n",
       "      <td>74.9</td>\n",
       "    </tr>\n",
       "    <tr>\n",
       "      <th>...</th>\n",
       "      <td>...</td>\n",
       "    </tr>\n",
       "    <tr>\n",
       "      <th>last_day_rch_amt_8</th>\n",
       "      <td>0.0</td>\n",
       "    </tr>\n",
       "    <tr>\n",
       "      <th>vol_2g_mb_6</th>\n",
       "      <td>0.0</td>\n",
       "    </tr>\n",
       "    <tr>\n",
       "      <th>vol_2g_mb_7</th>\n",
       "      <td>0.0</td>\n",
       "    </tr>\n",
       "    <tr>\n",
       "      <th>vol_2g_mb_8</th>\n",
       "      <td>0.0</td>\n",
       "    </tr>\n",
       "    <tr>\n",
       "      <th>churn_probability</th>\n",
       "      <td>0.0</td>\n",
       "    </tr>\n",
       "  </tbody>\n",
       "</table>\n",
       "<p>172 rows × 1 columns</p>\n",
       "</div>"
      ],
      "text/plain": [
       "                          null\n",
       "arpu_3g_6                 74.9\n",
       "count_rech_2g_6           74.9\n",
       "night_pck_user_6          74.9\n",
       "arpu_2g_6                 74.9\n",
       "date_of_last_rech_data_6  74.9\n",
       "...                        ...\n",
       "last_day_rch_amt_8         0.0\n",
       "vol_2g_mb_6                0.0\n",
       "vol_2g_mb_7                0.0\n",
       "vol_2g_mb_8                0.0\n",
       "churn_probability          0.0\n",
       "\n",
       "[172 rows x 1 columns]"
      ]
     },
     "execution_count": 73,
     "metadata": {},
     "output_type": "execute_result"
    }
   ],
   "source": [
    "# Cheking percent of missing values in columns\n",
    "df_missing_columns = (round(((df.isnull().sum()/len(df.index))*100),2).to_frame('null')).sort_values('null', ascending=False)\n",
    "df_missing_columns"
   ]
  },
  {
   "cell_type": "code",
   "execution_count": 74,
   "id": "1499d5d4",
   "metadata": {},
   "outputs": [],
   "source": [
    "og = df.copy()"
   ]
  },
  {
   "cell_type": "code",
   "execution_count": 75,
   "id": "35da41e6",
   "metadata": {},
   "outputs": [],
   "source": [
    "# create list of coloumns for recharge (total,av,max)\n",
    "zeroimpute = ['total_rech_data_6', 'total_rech_data_7', 'total_rech_data_8',\n",
    "        'av_rech_amt_data_6', 'av_rech_amt_data_7', 'av_rech_amt_data_8', \n",
    "        'max_rech_data_6', 'max_rech_data_7', 'max_rech_data_8'\n",
    "       ]"
   ]
  },
  {
   "cell_type": "code",
   "execution_count": 76,
   "id": "124d5cd5",
   "metadata": {},
   "outputs": [],
   "source": [
    "# function to replace missing values in recharg coloumns with zero\n",
    "\n",
    "df[zeroimpute] = df[zeroimpute].apply(lambda x: x.fillna(0))"
   ]
  },
  {
   "cell_type": "code",
   "execution_count": 77,
   "id": "2e7d2e00",
   "metadata": {},
   "outputs": [
    {
     "name": "stdout",
     "output_type": "stream",
     "text": [
      "total_rech_data_6     0.0\n",
      "total_rech_data_7     0.0\n",
      "total_rech_data_8     0.0\n",
      "av_rech_amt_data_6    0.0\n",
      "av_rech_amt_data_7    0.0\n",
      "av_rech_amt_data_8    0.0\n",
      "max_rech_data_6       0.0\n",
      "max_rech_data_7       0.0\n",
      "max_rech_data_8       0.0\n",
      "dtype: float64\n"
     ]
    }
   ],
   "source": [
    "print(df[zeroimpute].isnull().sum()*100/df.shape[1])"
   ]
  },
  {
   "cell_type": "code",
   "execution_count": null,
   "id": "9eee03e2",
   "metadata": {},
   "outputs": [],
   "source": []
  },
  {
   "cell_type": "code",
   "execution_count": null,
   "id": "74e605b8",
   "metadata": {},
   "outputs": [],
   "source": []
  },
  {
   "cell_type": "code",
   "execution_count": 78,
   "id": "4484e015",
   "metadata": {},
   "outputs": [],
   "source": [
    "# List the columns having more than 70% missing values\n",
    "col_list_missing_70 = list(df_missing_columns.index[df_missing_columns['null'] > 70])"
   ]
  },
  {
   "cell_type": "code",
   "execution_count": 79,
   "id": "4ed8ae77",
   "metadata": {},
   "outputs": [
    {
     "data": {
      "text/plain": [
       "['arpu_3g_6',\n",
       " 'count_rech_2g_6',\n",
       " 'night_pck_user_6',\n",
       " 'arpu_2g_6',\n",
       " 'date_of_last_rech_data_6',\n",
       " 'total_rech_data_6',\n",
       " 'av_rech_amt_data_6',\n",
       " 'max_rech_data_6',\n",
       " 'count_rech_3g_6',\n",
       " 'fb_user_6',\n",
       " 'night_pck_user_7',\n",
       " 'date_of_last_rech_data_7',\n",
       " 'total_rech_data_7',\n",
       " 'max_rech_data_7',\n",
       " 'fb_user_7',\n",
       " 'count_rech_2g_7',\n",
       " 'count_rech_3g_7',\n",
       " 'arpu_3g_7',\n",
       " 'av_rech_amt_data_7',\n",
       " 'arpu_2g_7',\n",
       " 'count_rech_2g_8',\n",
       " 'av_rech_amt_data_8',\n",
       " 'night_pck_user_8',\n",
       " 'max_rech_data_8',\n",
       " 'total_rech_data_8',\n",
       " 'arpu_2g_8',\n",
       " 'arpu_3g_8',\n",
       " 'date_of_last_rech_data_8',\n",
       " 'fb_user_8',\n",
       " 'count_rech_3g_8']"
      ]
     },
     "execution_count": 79,
     "metadata": {},
     "output_type": "execute_result"
    }
   ],
   "source": [
    "col_list_missing_70"
   ]
  },
  {
   "cell_type": "code",
   "execution_count": 80,
   "id": "76b1070c",
   "metadata": {},
   "outputs": [],
   "source": [
    "# Delete the columns having more than 70% missing values\n",
    "df = df.drop(col_list_missing_70, axis=1)"
   ]
  },
  {
   "cell_type": "code",
   "execution_count": 81,
   "id": "8e8a6524",
   "metadata": {},
   "outputs": [
    {
     "data": {
      "text/html": [
       "<div>\n",
       "<style scoped>\n",
       "    .dataframe tbody tr th:only-of-type {\n",
       "        vertical-align: middle;\n",
       "    }\n",
       "\n",
       "    .dataframe tbody tr th {\n",
       "        vertical-align: top;\n",
       "    }\n",
       "\n",
       "    .dataframe thead th {\n",
       "        text-align: right;\n",
       "    }\n",
       "</style>\n",
       "<table border=\"1\" class=\"dataframe\">\n",
       "  <thead>\n",
       "    <tr style=\"text-align: right;\">\n",
       "      <th></th>\n",
       "      <th>id</th>\n",
       "      <th>circle_id</th>\n",
       "      <th>loc_og_t2o_mou</th>\n",
       "      <th>std_og_t2o_mou</th>\n",
       "      <th>loc_ic_t2o_mou</th>\n",
       "      <th>last_date_of_month_6</th>\n",
       "      <th>last_date_of_month_7</th>\n",
       "      <th>last_date_of_month_8</th>\n",
       "      <th>arpu_6</th>\n",
       "      <th>arpu_7</th>\n",
       "      <th>...</th>\n",
       "      <th>monthly_3g_7</th>\n",
       "      <th>monthly_3g_8</th>\n",
       "      <th>sachet_3g_6</th>\n",
       "      <th>sachet_3g_7</th>\n",
       "      <th>sachet_3g_8</th>\n",
       "      <th>aon</th>\n",
       "      <th>aug_vbc_3g</th>\n",
       "      <th>jul_vbc_3g</th>\n",
       "      <th>jun_vbc_3g</th>\n",
       "      <th>churn_probability</th>\n",
       "    </tr>\n",
       "  </thead>\n",
       "  <tbody>\n",
       "    <tr>\n",
       "      <th>0</th>\n",
       "      <td>0</td>\n",
       "      <td>109</td>\n",
       "      <td>0.0</td>\n",
       "      <td>0.0</td>\n",
       "      <td>0.0</td>\n",
       "      <td>6/30/2014</td>\n",
       "      <td>7/31/2014</td>\n",
       "      <td>8/31/2014</td>\n",
       "      <td>31.277</td>\n",
       "      <td>87.009</td>\n",
       "      <td>...</td>\n",
       "      <td>0</td>\n",
       "      <td>0</td>\n",
       "      <td>0</td>\n",
       "      <td>0</td>\n",
       "      <td>0</td>\n",
       "      <td>1958</td>\n",
       "      <td>0.0</td>\n",
       "      <td>0.0</td>\n",
       "      <td>0.0</td>\n",
       "      <td>0</td>\n",
       "    </tr>\n",
       "    <tr>\n",
       "      <th>1</th>\n",
       "      <td>1</td>\n",
       "      <td>109</td>\n",
       "      <td>0.0</td>\n",
       "      <td>0.0</td>\n",
       "      <td>0.0</td>\n",
       "      <td>6/30/2014</td>\n",
       "      <td>7/31/2014</td>\n",
       "      <td>8/31/2014</td>\n",
       "      <td>0.000</td>\n",
       "      <td>122.787</td>\n",
       "      <td>...</td>\n",
       "      <td>1</td>\n",
       "      <td>0</td>\n",
       "      <td>0</td>\n",
       "      <td>0</td>\n",
       "      <td>0</td>\n",
       "      <td>710</td>\n",
       "      <td>0.0</td>\n",
       "      <td>0.0</td>\n",
       "      <td>0.0</td>\n",
       "      <td>0</td>\n",
       "    </tr>\n",
       "    <tr>\n",
       "      <th>2</th>\n",
       "      <td>2</td>\n",
       "      <td>109</td>\n",
       "      <td>0.0</td>\n",
       "      <td>0.0</td>\n",
       "      <td>0.0</td>\n",
       "      <td>6/30/2014</td>\n",
       "      <td>7/31/2014</td>\n",
       "      <td>8/31/2014</td>\n",
       "      <td>60.806</td>\n",
       "      <td>103.176</td>\n",
       "      <td>...</td>\n",
       "      <td>0</td>\n",
       "      <td>0</td>\n",
       "      <td>0</td>\n",
       "      <td>0</td>\n",
       "      <td>0</td>\n",
       "      <td>882</td>\n",
       "      <td>0.0</td>\n",
       "      <td>0.0</td>\n",
       "      <td>0.0</td>\n",
       "      <td>0</td>\n",
       "    </tr>\n",
       "    <tr>\n",
       "      <th>3</th>\n",
       "      <td>3</td>\n",
       "      <td>109</td>\n",
       "      <td>0.0</td>\n",
       "      <td>0.0</td>\n",
       "      <td>0.0</td>\n",
       "      <td>6/30/2014</td>\n",
       "      <td>7/31/2014</td>\n",
       "      <td>8/31/2014</td>\n",
       "      <td>156.362</td>\n",
       "      <td>205.260</td>\n",
       "      <td>...</td>\n",
       "      <td>0</td>\n",
       "      <td>0</td>\n",
       "      <td>0</td>\n",
       "      <td>0</td>\n",
       "      <td>0</td>\n",
       "      <td>982</td>\n",
       "      <td>0.0</td>\n",
       "      <td>0.0</td>\n",
       "      <td>0.0</td>\n",
       "      <td>0</td>\n",
       "    </tr>\n",
       "    <tr>\n",
       "      <th>4</th>\n",
       "      <td>4</td>\n",
       "      <td>109</td>\n",
       "      <td>0.0</td>\n",
       "      <td>0.0</td>\n",
       "      <td>0.0</td>\n",
       "      <td>6/30/2014</td>\n",
       "      <td>7/31/2014</td>\n",
       "      <td>8/31/2014</td>\n",
       "      <td>240.708</td>\n",
       "      <td>128.191</td>\n",
       "      <td>...</td>\n",
       "      <td>0</td>\n",
       "      <td>0</td>\n",
       "      <td>0</td>\n",
       "      <td>1</td>\n",
       "      <td>0</td>\n",
       "      <td>647</td>\n",
       "      <td>0.0</td>\n",
       "      <td>0.0</td>\n",
       "      <td>0.0</td>\n",
       "      <td>0</td>\n",
       "    </tr>\n",
       "  </tbody>\n",
       "</table>\n",
       "<p>5 rows × 142 columns</p>\n",
       "</div>"
      ],
      "text/plain": [
       "   id  circle_id  loc_og_t2o_mou  std_og_t2o_mou  loc_ic_t2o_mou  \\\n",
       "0   0        109             0.0             0.0             0.0   \n",
       "1   1        109             0.0             0.0             0.0   \n",
       "2   2        109             0.0             0.0             0.0   \n",
       "3   3        109             0.0             0.0             0.0   \n",
       "4   4        109             0.0             0.0             0.0   \n",
       "\n",
       "  last_date_of_month_6 last_date_of_month_7 last_date_of_month_8   arpu_6  \\\n",
       "0            6/30/2014            7/31/2014            8/31/2014   31.277   \n",
       "1            6/30/2014            7/31/2014            8/31/2014    0.000   \n",
       "2            6/30/2014            7/31/2014            8/31/2014   60.806   \n",
       "3            6/30/2014            7/31/2014            8/31/2014  156.362   \n",
       "4            6/30/2014            7/31/2014            8/31/2014  240.708   \n",
       "\n",
       "    arpu_7  ...  monthly_3g_7  monthly_3g_8  sachet_3g_6  sachet_3g_7  \\\n",
       "0   87.009  ...             0             0            0            0   \n",
       "1  122.787  ...             1             0            0            0   \n",
       "2  103.176  ...             0             0            0            0   \n",
       "3  205.260  ...             0             0            0            0   \n",
       "4  128.191  ...             0             0            0            1   \n",
       "\n",
       "   sachet_3g_8   aon  aug_vbc_3g  jul_vbc_3g  jun_vbc_3g  churn_probability  \n",
       "0            0  1958         0.0         0.0         0.0                  0  \n",
       "1            0   710         0.0         0.0         0.0                  0  \n",
       "2            0   882         0.0         0.0         0.0                  0  \n",
       "3            0   982         0.0         0.0         0.0                  0  \n",
       "4            0   647         0.0         0.0         0.0                  0  \n",
       "\n",
       "[5 rows x 142 columns]"
      ]
     },
     "execution_count": 81,
     "metadata": {},
     "output_type": "execute_result"
    }
   ],
   "source": [
    "df.head()"
   ]
  },
  {
   "cell_type": "code",
   "execution_count": 82,
   "id": "23cf704a",
   "metadata": {},
   "outputs": [
    {
     "data": {
      "text/plain": [
       "(69999, 142)"
      ]
     },
     "execution_count": 82,
     "metadata": {},
     "output_type": "execute_result"
    }
   ],
   "source": [
    "df.shape"
   ]
  },
  {
   "cell_type": "markdown",
   "id": "02889b23",
   "metadata": {},
   "source": [
    "# Deleting the date columns as the date columns are not required in our analysis"
   ]
  },
  {
   "cell_type": "code",
   "execution_count": 83,
   "id": "3fc34550",
   "metadata": {},
   "outputs": [],
   "source": [
    "datecol=['last_date_of_month_6', 'last_date_of_month_7', 'last_date_of_month_8', 'date_of_last_rech_6', 'date_of_last_rech_7', 'date_of_last_rech_8']"
   ]
  },
  {
   "cell_type": "code",
   "execution_count": 84,
   "id": "903601fc",
   "metadata": {},
   "outputs": [],
   "source": [
    "# Dropping date columns\n",
    "df = df.drop(datecol, axis=1)"
   ]
  },
  {
   "cell_type": "code",
   "execution_count": 85,
   "id": "0f85eb26",
   "metadata": {},
   "outputs": [
    {
     "data": {
      "text/plain": [
       "(69999, 136)"
      ]
     },
     "execution_count": 85,
     "metadata": {},
     "output_type": "execute_result"
    }
   ],
   "source": [
    " df.shape"
   ]
  },
  {
   "cell_type": "code",
   "execution_count": 86,
   "id": "943c4037",
   "metadata": {},
   "outputs": [],
   "source": [
    "## Drop circle_id column (as this is uniques value)\n",
    "df = df.drop('circle_id', axis=1)"
   ]
  },
  {
   "cell_type": "code",
   "execution_count": 87,
   "id": "f6044293",
   "metadata": {},
   "outputs": [
    {
     "data": {
      "text/plain": [
       "id                   0.000000\n",
       "loc_og_t2o_mou       1.002871\n",
       "std_og_t2o_mou       1.002871\n",
       "loc_ic_t2o_mou       1.002871\n",
       "arpu_6               0.000000\n",
       "                       ...   \n",
       "aon                  0.000000\n",
       "aug_vbc_3g           0.000000\n",
       "jul_vbc_3g           0.000000\n",
       "jun_vbc_3g           0.000000\n",
       "churn_probability    0.000000\n",
       "Length: 135, dtype: float64"
      ]
     },
     "execution_count": 87,
     "metadata": {},
     "output_type": "execute_result"
    }
   ],
   "source": [
    "# look at missing value ratio in each column\n",
    "df.isnull().sum()*100/df.shape[0]"
   ]
  },
  {
   "cell_type": "code",
   "execution_count": 88,
   "id": "0e8bb2e1",
   "metadata": {},
   "outputs": [
    {
     "data": {
      "text/plain": [
       "Index(['loc_og_t2o_mou', 'std_og_t2o_mou', 'loc_ic_t2o_mou', 'onnet_mou_6',\n",
       "       'onnet_mou_7', 'onnet_mou_8', 'offnet_mou_6', 'offnet_mou_7',\n",
       "       'offnet_mou_8', 'roam_ic_mou_6', 'roam_ic_mou_7', 'roam_ic_mou_8',\n",
       "       'roam_og_mou_6', 'roam_og_mou_7', 'roam_og_mou_8', 'loc_og_t2t_mou_6',\n",
       "       'loc_og_t2t_mou_7', 'loc_og_t2t_mou_8', 'loc_og_t2m_mou_6',\n",
       "       'loc_og_t2m_mou_7', 'loc_og_t2m_mou_8', 'loc_og_t2f_mou_6',\n",
       "       'loc_og_t2f_mou_7', 'loc_og_t2f_mou_8', 'loc_og_t2c_mou_6',\n",
       "       'loc_og_t2c_mou_7', 'loc_og_t2c_mou_8', 'loc_og_mou_6', 'loc_og_mou_7',\n",
       "       'loc_og_mou_8', 'std_og_t2t_mou_6', 'std_og_t2t_mou_7',\n",
       "       'std_og_t2t_mou_8', 'std_og_t2m_mou_6', 'std_og_t2m_mou_7',\n",
       "       'std_og_t2m_mou_8', 'std_og_t2f_mou_6', 'std_og_t2f_mou_7',\n",
       "       'std_og_t2f_mou_8', 'std_og_t2c_mou_6', 'std_og_t2c_mou_7',\n",
       "       'std_og_t2c_mou_8', 'std_og_mou_6', 'std_og_mou_7', 'std_og_mou_8',\n",
       "       'isd_og_mou_6', 'isd_og_mou_7', 'isd_og_mou_8', 'spl_og_mou_6',\n",
       "       'spl_og_mou_7', 'spl_og_mou_8', 'og_others_6', 'og_others_7',\n",
       "       'og_others_8', 'loc_ic_t2t_mou_6', 'loc_ic_t2t_mou_7',\n",
       "       'loc_ic_t2t_mou_8', 'loc_ic_t2m_mou_6', 'loc_ic_t2m_mou_7',\n",
       "       'loc_ic_t2m_mou_8', 'loc_ic_t2f_mou_6', 'loc_ic_t2f_mou_7',\n",
       "       'loc_ic_t2f_mou_8', 'loc_ic_mou_6', 'loc_ic_mou_7', 'loc_ic_mou_8',\n",
       "       'std_ic_t2t_mou_6', 'std_ic_t2t_mou_7', 'std_ic_t2t_mou_8',\n",
       "       'std_ic_t2m_mou_6', 'std_ic_t2m_mou_7', 'std_ic_t2m_mou_8',\n",
       "       'std_ic_t2f_mou_6', 'std_ic_t2f_mou_7', 'std_ic_t2f_mou_8',\n",
       "       'std_ic_t2o_mou_6', 'std_ic_t2o_mou_7', 'std_ic_t2o_mou_8',\n",
       "       'std_ic_mou_6', 'std_ic_mou_7', 'std_ic_mou_8', 'spl_ic_mou_6',\n",
       "       'spl_ic_mou_7', 'spl_ic_mou_8', 'isd_ic_mou_6', 'isd_ic_mou_7',\n",
       "       'isd_ic_mou_8', 'ic_others_6', 'ic_others_7', 'ic_others_8'],\n",
       "      dtype='object')"
      ]
     },
     "execution_count": 88,
     "metadata": {},
     "output_type": "execute_result"
    }
   ],
   "source": [
    "df.columns[df.isnull().any()]"
   ]
  },
  {
   "cell_type": "markdown",
   "id": "c1b590d2",
   "metadata": {},
   "source": [
    "# Find high-value customers"
   ]
  },
  {
   "cell_type": "code",
   "execution_count": 89,
   "id": "6d05221d",
   "metadata": {},
   "outputs": [
    {
     "data": {
      "text/plain": [
       "370.0"
      ]
     },
     "execution_count": 89,
     "metadata": {},
     "output_type": "execute_result"
    }
   ],
   "source": [
    "## Creating column avg_rech_amt_6_7 by summing up total recharge amount of month 6 and 7. Then taking the average of the sum.\n",
    "df['avg_rech_amt_6_7'] = (df['total_rech_amt_6'] + df['total_rech_amt_7'])/2\n",
    "X = df['avg_rech_amt_6_7'].quantile(0.7)\n",
    "X"
   ]
  },
  {
   "cell_type": "code",
   "execution_count": 90,
   "id": "3d1e4e46",
   "metadata": {},
   "outputs": [
    {
     "data": {
      "text/html": [
       "<div>\n",
       "<style scoped>\n",
       "    .dataframe tbody tr th:only-of-type {\n",
       "        vertical-align: middle;\n",
       "    }\n",
       "\n",
       "    .dataframe tbody tr th {\n",
       "        vertical-align: top;\n",
       "    }\n",
       "\n",
       "    .dataframe thead th {\n",
       "        text-align: right;\n",
       "    }\n",
       "</style>\n",
       "<table border=\"1\" class=\"dataframe\">\n",
       "  <thead>\n",
       "    <tr style=\"text-align: right;\">\n",
       "      <th></th>\n",
       "      <th>id</th>\n",
       "      <th>loc_og_t2o_mou</th>\n",
       "      <th>std_og_t2o_mou</th>\n",
       "      <th>loc_ic_t2o_mou</th>\n",
       "      <th>arpu_6</th>\n",
       "      <th>arpu_7</th>\n",
       "      <th>arpu_8</th>\n",
       "      <th>onnet_mou_6</th>\n",
       "      <th>onnet_mou_7</th>\n",
       "      <th>onnet_mou_8</th>\n",
       "      <th>...</th>\n",
       "      <th>monthly_3g_8</th>\n",
       "      <th>sachet_3g_6</th>\n",
       "      <th>sachet_3g_7</th>\n",
       "      <th>sachet_3g_8</th>\n",
       "      <th>aon</th>\n",
       "      <th>aug_vbc_3g</th>\n",
       "      <th>jul_vbc_3g</th>\n",
       "      <th>jun_vbc_3g</th>\n",
       "      <th>churn_probability</th>\n",
       "      <th>avg_rech_amt_6_7</th>\n",
       "    </tr>\n",
       "  </thead>\n",
       "  <tbody>\n",
       "    <tr>\n",
       "      <th>12</th>\n",
       "      <td>12</td>\n",
       "      <td>0.0</td>\n",
       "      <td>0.0</td>\n",
       "      <td>0.0</td>\n",
       "      <td>439.919</td>\n",
       "      <td>397.946</td>\n",
       "      <td>392.024</td>\n",
       "      <td>244.46</td>\n",
       "      <td>108.31</td>\n",
       "      <td>42.98</td>\n",
       "      <td>...</td>\n",
       "      <td>0</td>\n",
       "      <td>0</td>\n",
       "      <td>0</td>\n",
       "      <td>0</td>\n",
       "      <td>322</td>\n",
       "      <td>0.0</td>\n",
       "      <td>0.0</td>\n",
       "      <td>0.0</td>\n",
       "      <td>0</td>\n",
       "      <td>469.5</td>\n",
       "    </tr>\n",
       "    <tr>\n",
       "      <th>15</th>\n",
       "      <td>15</td>\n",
       "      <td>0.0</td>\n",
       "      <td>0.0</td>\n",
       "      <td>0.0</td>\n",
       "      <td>580.549</td>\n",
       "      <td>377.294</td>\n",
       "      <td>338.286</td>\n",
       "      <td>10.43</td>\n",
       "      <td>24.99</td>\n",
       "      <td>194.43</td>\n",
       "      <td>...</td>\n",
       "      <td>0</td>\n",
       "      <td>0</td>\n",
       "      <td>0</td>\n",
       "      <td>0</td>\n",
       "      <td>602</td>\n",
       "      <td>0.0</td>\n",
       "      <td>0.0</td>\n",
       "      <td>0.0</td>\n",
       "      <td>0</td>\n",
       "      <td>527.0</td>\n",
       "    </tr>\n",
       "    <tr>\n",
       "      <th>23</th>\n",
       "      <td>23</td>\n",
       "      <td>0.0</td>\n",
       "      <td>0.0</td>\n",
       "      <td>0.0</td>\n",
       "      <td>1130.948</td>\n",
       "      <td>905.506</td>\n",
       "      <td>479.762</td>\n",
       "      <td>859.53</td>\n",
       "      <td>372.71</td>\n",
       "      <td>0.89</td>\n",
       "      <td>...</td>\n",
       "      <td>0</td>\n",
       "      <td>0</td>\n",
       "      <td>0</td>\n",
       "      <td>0</td>\n",
       "      <td>455</td>\n",
       "      <td>0.0</td>\n",
       "      <td>0.0</td>\n",
       "      <td>0.0</td>\n",
       "      <td>0</td>\n",
       "      <td>1205.0</td>\n",
       "    </tr>\n",
       "    <tr>\n",
       "      <th>24</th>\n",
       "      <td>24</td>\n",
       "      <td>0.0</td>\n",
       "      <td>0.0</td>\n",
       "      <td>0.0</td>\n",
       "      <td>371.974</td>\n",
       "      <td>352.069</td>\n",
       "      <td>240.449</td>\n",
       "      <td>93.18</td>\n",
       "      <td>38.29</td>\n",
       "      <td>29.86</td>\n",
       "      <td>...</td>\n",
       "      <td>0</td>\n",
       "      <td>0</td>\n",
       "      <td>0</td>\n",
       "      <td>0</td>\n",
       "      <td>1219</td>\n",
       "      <td>0.0</td>\n",
       "      <td>0.0</td>\n",
       "      <td>0.0</td>\n",
       "      <td>0</td>\n",
       "      <td>433.5</td>\n",
       "    </tr>\n",
       "    <tr>\n",
       "      <th>25</th>\n",
       "      <td>25</td>\n",
       "      <td>0.0</td>\n",
       "      <td>0.0</td>\n",
       "      <td>0.0</td>\n",
       "      <td>362.951</td>\n",
       "      <td>321.763</td>\n",
       "      <td>689.603</td>\n",
       "      <td>193.71</td>\n",
       "      <td>124.53</td>\n",
       "      <td>197.54</td>\n",
       "      <td>...</td>\n",
       "      <td>0</td>\n",
       "      <td>0</td>\n",
       "      <td>0</td>\n",
       "      <td>0</td>\n",
       "      <td>2831</td>\n",
       "      <td>0.0</td>\n",
       "      <td>0.0</td>\n",
       "      <td>0.0</td>\n",
       "      <td>0</td>\n",
       "      <td>405.0</td>\n",
       "    </tr>\n",
       "  </tbody>\n",
       "</table>\n",
       "<p>5 rows × 136 columns</p>\n",
       "</div>"
      ],
      "text/plain": [
       "    id  loc_og_t2o_mou  std_og_t2o_mou  loc_ic_t2o_mou    arpu_6   arpu_7  \\\n",
       "12  12             0.0             0.0             0.0   439.919  397.946   \n",
       "15  15             0.0             0.0             0.0   580.549  377.294   \n",
       "23  23             0.0             0.0             0.0  1130.948  905.506   \n",
       "24  24             0.0             0.0             0.0   371.974  352.069   \n",
       "25  25             0.0             0.0             0.0   362.951  321.763   \n",
       "\n",
       "     arpu_8  onnet_mou_6  onnet_mou_7  onnet_mou_8  ...  monthly_3g_8  \\\n",
       "12  392.024       244.46       108.31        42.98  ...             0   \n",
       "15  338.286        10.43        24.99       194.43  ...             0   \n",
       "23  479.762       859.53       372.71         0.89  ...             0   \n",
       "24  240.449        93.18        38.29        29.86  ...             0   \n",
       "25  689.603       193.71       124.53       197.54  ...             0   \n",
       "\n",
       "    sachet_3g_6  sachet_3g_7  sachet_3g_8   aon  aug_vbc_3g  jul_vbc_3g  \\\n",
       "12            0            0            0   322         0.0         0.0   \n",
       "15            0            0            0   602         0.0         0.0   \n",
       "23            0            0            0   455         0.0         0.0   \n",
       "24            0            0            0  1219         0.0         0.0   \n",
       "25            0            0            0  2831         0.0         0.0   \n",
       "\n",
       "    jun_vbc_3g  churn_probability  avg_rech_amt_6_7  \n",
       "12         0.0                  0             469.5  \n",
       "15         0.0                  0             527.0  \n",
       "23         0.0                  0            1205.0  \n",
       "24         0.0                  0             433.5  \n",
       "25         0.0                  0             405.0  \n",
       "\n",
       "[5 rows x 136 columns]"
      ]
     },
     "execution_count": 90,
     "metadata": {},
     "output_type": "execute_result"
    }
   ],
   "source": [
    "df = df[df['avg_rech_amt_6_7'] >= X]\n",
    "df.head()"
   ]
  },
  {
   "cell_type": "code",
   "execution_count": 91,
   "id": "26b40662",
   "metadata": {},
   "outputs": [
    {
     "data": {
      "text/plain": [
       "(21018, 136)"
      ]
     },
     "execution_count": 91,
     "metadata": {},
     "output_type": "execute_result"
    }
   ],
   "source": [
    "df.shape"
   ]
  },
  {
   "cell_type": "code",
   "execution_count": 92,
   "id": "b46a97f5",
   "metadata": {},
   "outputs": [],
   "source": [
    "# after filter we have 21 thousand data"
   ]
  },
  {
   "cell_type": "markdown",
   "id": "1a249bf4",
   "metadata": {},
   "source": [
    "## listing categorical variables\n"
   ]
  },
  {
   "cell_type": "code",
   "execution_count": 93,
   "id": "07ab29ac",
   "metadata": {},
   "outputs": [
    {
     "data": {
      "text/html": [
       "<div>\n",
       "<style scoped>\n",
       "    .dataframe tbody tr th:only-of-type {\n",
       "        vertical-align: middle;\n",
       "    }\n",
       "\n",
       "    .dataframe tbody tr th {\n",
       "        vertical-align: top;\n",
       "    }\n",
       "\n",
       "    .dataframe thead th {\n",
       "        text-align: right;\n",
       "    }\n",
       "</style>\n",
       "<table border=\"1\" class=\"dataframe\">\n",
       "  <thead>\n",
       "    <tr style=\"text-align: right;\">\n",
       "      <th></th>\n",
       "      <th>null</th>\n",
       "    </tr>\n",
       "  </thead>\n",
       "  <tbody>\n",
       "    <tr>\n",
       "      <th>std_ic_mou_8</th>\n",
       "      <td>3.12</td>\n",
       "    </tr>\n",
       "    <tr>\n",
       "      <th>std_ic_t2m_mou_8</th>\n",
       "      <td>3.12</td>\n",
       "    </tr>\n",
       "    <tr>\n",
       "      <th>std_ic_t2o_mou_8</th>\n",
       "      <td>3.12</td>\n",
       "    </tr>\n",
       "    <tr>\n",
       "      <th>std_og_mou_8</th>\n",
       "      <td>3.12</td>\n",
       "    </tr>\n",
       "    <tr>\n",
       "      <th>loc_og_t2f_mou_8</th>\n",
       "      <td>3.12</td>\n",
       "    </tr>\n",
       "    <tr>\n",
       "      <th>...</th>\n",
       "      <td>...</td>\n",
       "    </tr>\n",
       "    <tr>\n",
       "      <th>max_rech_amt_7</th>\n",
       "      <td>0.00</td>\n",
       "    </tr>\n",
       "    <tr>\n",
       "      <th>max_rech_amt_8</th>\n",
       "      <td>0.00</td>\n",
       "    </tr>\n",
       "    <tr>\n",
       "      <th>last_day_rch_amt_6</th>\n",
       "      <td>0.00</td>\n",
       "    </tr>\n",
       "    <tr>\n",
       "      <th>last_day_rch_amt_7</th>\n",
       "      <td>0.00</td>\n",
       "    </tr>\n",
       "    <tr>\n",
       "      <th>avg_rech_amt_6_7</th>\n",
       "      <td>0.00</td>\n",
       "    </tr>\n",
       "  </tbody>\n",
       "</table>\n",
       "<p>136 rows × 1 columns</p>\n",
       "</div>"
      ],
      "text/plain": [
       "                    null\n",
       "std_ic_mou_8        3.12\n",
       "std_ic_t2m_mou_8    3.12\n",
       "std_ic_t2o_mou_8    3.12\n",
       "std_og_mou_8        3.12\n",
       "loc_og_t2f_mou_8    3.12\n",
       "...                  ...\n",
       "max_rech_amt_7      0.00\n",
       "max_rech_amt_8      0.00\n",
       "last_day_rch_amt_6  0.00\n",
       "last_day_rch_amt_7  0.00\n",
       "avg_rech_amt_6_7    0.00\n",
       "\n",
       "[136 rows x 1 columns]"
      ]
     },
     "execution_count": 93,
     "metadata": {},
     "output_type": "execute_result"
    }
   ],
   "source": [
    "df_missing_columns = (round(((df.isnull().sum()/len(df.index))*100),2).to_frame('null')).sort_values('null', ascending=False)\n",
    "df_missing_columns"
   ]
  },
  {
   "cell_type": "code",
   "execution_count": 94,
   "id": "fd1ecd26",
   "metadata": {},
   "outputs": [
    {
     "name": "stdout",
     "output_type": "stream",
     "text": [
      "['std_ic_mou_8', 'std_ic_t2m_mou_8', 'std_ic_t2o_mou_8', 'std_og_mou_8', 'loc_og_t2f_mou_8', 'isd_og_mou_8', 'loc_og_t2m_mou_8', 'loc_og_mou_8', 'loc_ic_t2f_mou_8', 'loc_og_t2t_mou_8', 'std_og_t2f_mou_8', 'spl_og_mou_8', 'roam_og_mou_8', 'std_og_t2c_mou_8', 'std_ic_t2t_mou_8', 'roam_ic_mou_8', 'og_others_8', 'std_og_t2t_mou_8', 'offnet_mou_8', 'spl_ic_mou_8', 'loc_ic_mou_8', 'onnet_mou_8', 'loc_ic_t2t_mou_8', 'std_ic_t2f_mou_8', 'isd_ic_mou_8', 'std_og_t2m_mou_8', 'loc_ic_t2m_mou_8', 'ic_others_8', 'loc_og_t2c_mou_8']\n"
     ]
    }
   ],
   "source": [
    "print(((df_missing_columns[df_missing_columns['null'] == 3.12]).index).to_list())"
   ]
  },
  {
   "cell_type": "code",
   "execution_count": 95,
   "id": "40afaa43",
   "metadata": {},
   "outputs": [
    {
     "data": {
      "text/plain": [
       "Index(['id', 'loc_og_t2o_mou', 'std_og_t2o_mou', 'loc_ic_t2o_mou', 'arpu_6',\n",
       "       'arpu_7', 'arpu_8', 'onnet_mou_6', 'onnet_mou_7', 'onnet_mou_8',\n",
       "       ...\n",
       "       'monthly_3g_8', 'sachet_3g_6', 'sachet_3g_7', 'sachet_3g_8', 'aon',\n",
       "       'aug_vbc_3g', 'jul_vbc_3g', 'jun_vbc_3g', 'churn_probability',\n",
       "       'avg_rech_amt_6_7'],\n",
       "      dtype='object', length=136)"
      ]
     },
     "execution_count": 95,
     "metadata": {},
     "output_type": "execute_result"
    }
   ],
   "source": [
    "#find coloumns with datatype numerical\n",
    "num_cols= df.select_dtypes(exclude=['object']).columns\n",
    "num_cols"
   ]
  },
  {
   "cell_type": "markdown",
   "id": "ec2bf4e4",
   "metadata": {},
   "source": [
    "## Deriving new features"
   ]
  },
  {
   "cell_type": "code",
   "execution_count": 96,
   "id": "cea3ea79",
   "metadata": {},
   "outputs": [
    {
     "data": {
      "text/plain": [
       "(20803, 136)"
      ]
     },
     "execution_count": 96,
     "metadata": {},
     "output_type": "execute_result"
    }
   ],
   "source": [
    "# Removing outliers below 10th and above 90th percentile and assigning to new df\n",
    "for col in num_cols: \n",
    "    q1 = df[col].quantile(0.10)\n",
    "    q3 = df[col].quantile(0.90)\n",
    "    iqr = q3-q1\n",
    "    range_low  = q1-1.5*iqr\n",
    "    range_high = q3+1.5*iqr\n",
    "    # Assigning the filtered dataset into data\n",
    "    df_filter = df.loc[(df[col] > range_low) & (df[col] < range_high)]\n",
    "\n",
    "df_filter.shape"
   ]
  },
  {
   "cell_type": "code",
   "execution_count": 97,
   "id": "7d18f4e7",
   "metadata": {},
   "outputs": [
    {
     "data": {
      "text/plain": [
       "id                   False\n",
       "loc_og_t2o_mou        True\n",
       "std_og_t2o_mou        True\n",
       "loc_ic_t2o_mou        True\n",
       "arpu_6               False\n",
       "                     ...  \n",
       "aug_vbc_3g           False\n",
       "jul_vbc_3g           False\n",
       "jun_vbc_3g           False\n",
       "churn_probability    False\n",
       "avg_rech_amt_6_7     False\n",
       "Length: 136, dtype: bool"
      ]
     },
     "execution_count": 97,
     "metadata": {},
     "output_type": "execute_result"
    }
   ],
   "source": [
    "df_filter.isnull().any()"
   ]
  },
  {
   "cell_type": "markdown",
   "id": "dd0abfb9",
   "metadata": {},
   "source": [
    "We will derive below new variables on the filtered data\n",
    "1. decrease_mou-> if there is increase/decrease in total mou(Minutes of usage  voice calls)\n",
    "2. decrease_rech_amt-> if the increase/decreas in number of recharge\n",
    "3. decrease_arpu-> if thereis increase/decreas in arpu\n",
    "4. avg_rech_amt_action-> \n"
   ]
  },
  {
   "cell_type": "code",
   "execution_count": 98,
   "id": "7f36bf64",
   "metadata": {},
   "outputs": [
    {
     "name": "stderr",
     "output_type": "stream",
     "text": [
      "C:\\Users\\jayshree.singh@sap.com\\AppData\\Local\\Temp\\ipykernel_23568\\2013255042.py:3: SettingWithCopyWarning: \n",
      "A value is trying to be set on a copy of a slice from a DataFrame.\n",
      "Try using .loc[row_indexer,col_indexer] = value instead\n",
      "\n",
      "See the caveats in the documentation: https://pandas.pydata.org/pandas-docs/stable/user_guide/indexing.html#returning-a-view-versus-a-copy\n",
      "  df_filter['avg_mou_action'] = (df_filter['total_og_mou_7'] + df_filter['total_og_mou_8'] + df_filter['total_ic_mou_7'] + df_filter['total_ic_mou_8'])/2\n"
     ]
    }
   ],
   "source": [
    "# Avg. mou ==> decrease_mou\n",
    "# We are taking average because there are two months(7 and 8) in action phase\n",
    "df_filter['avg_mou_action'] = (df_filter['total_og_mou_7'] + df_filter['total_og_mou_8'] + df_filter['total_ic_mou_7'] + df_filter['total_ic_mou_8'])/2"
   ]
  },
  {
   "cell_type": "code",
   "execution_count": 99,
   "id": "0a207ff6",
   "metadata": {},
   "outputs": [
    {
     "name": "stderr",
     "output_type": "stream",
     "text": [
      "C:\\Users\\jayshree.singh@sap.com\\AppData\\Local\\Temp\\ipykernel_23568\\332010016.py:2: SettingWithCopyWarning: \n",
      "A value is trying to be set on a copy of a slice from a DataFrame.\n",
      "Try using .loc[row_indexer,col_indexer] = value instead\n",
      "\n",
      "See the caveats in the documentation: https://pandas.pydata.org/pandas-docs/stable/user_guide/indexing.html#returning-a-view-versus-a-copy\n",
      "  df_filter['total_mou_good'] = (df_filter['total_og_mou_6'] + df_filter['total_ic_mou_6'])\n"
     ]
    }
   ],
   "source": [
    "# Total mou at good phase incoming and outgoing\n",
    "df_filter['total_mou_good'] = (df_filter['total_og_mou_6'] + df_filter['total_ic_mou_6'])"
   ]
  },
  {
   "cell_type": "code",
   "execution_count": 100,
   "id": "5dfa31d9",
   "metadata": {},
   "outputs": [
    {
     "data": {
      "text/html": [
       "<div>\n",
       "<style scoped>\n",
       "    .dataframe tbody tr th:only-of-type {\n",
       "        vertical-align: middle;\n",
       "    }\n",
       "\n",
       "    .dataframe tbody tr th {\n",
       "        vertical-align: top;\n",
       "    }\n",
       "\n",
       "    .dataframe thead th {\n",
       "        text-align: right;\n",
       "    }\n",
       "</style>\n",
       "<table border=\"1\" class=\"dataframe\">\n",
       "  <thead>\n",
       "    <tr style=\"text-align: right;\">\n",
       "      <th></th>\n",
       "      <th>id</th>\n",
       "      <th>loc_og_t2o_mou</th>\n",
       "      <th>std_og_t2o_mou</th>\n",
       "      <th>loc_ic_t2o_mou</th>\n",
       "      <th>arpu_6</th>\n",
       "      <th>arpu_7</th>\n",
       "      <th>arpu_8</th>\n",
       "      <th>onnet_mou_6</th>\n",
       "      <th>onnet_mou_7</th>\n",
       "      <th>onnet_mou_8</th>\n",
       "      <th>...</th>\n",
       "      <th>sachet_3g_7</th>\n",
       "      <th>sachet_3g_8</th>\n",
       "      <th>aon</th>\n",
       "      <th>aug_vbc_3g</th>\n",
       "      <th>jul_vbc_3g</th>\n",
       "      <th>jun_vbc_3g</th>\n",
       "      <th>churn_probability</th>\n",
       "      <th>avg_rech_amt_6_7</th>\n",
       "      <th>avg_mou_action</th>\n",
       "      <th>total_mou_good</th>\n",
       "    </tr>\n",
       "  </thead>\n",
       "  <tbody>\n",
       "    <tr>\n",
       "      <th>12</th>\n",
       "      <td>12</td>\n",
       "      <td>0.0</td>\n",
       "      <td>0.0</td>\n",
       "      <td>0.0</td>\n",
       "      <td>439.919</td>\n",
       "      <td>397.946</td>\n",
       "      <td>392.024</td>\n",
       "      <td>244.46</td>\n",
       "      <td>108.31</td>\n",
       "      <td>42.98</td>\n",
       "      <td>...</td>\n",
       "      <td>0</td>\n",
       "      <td>0</td>\n",
       "      <td>322</td>\n",
       "      <td>0.0</td>\n",
       "      <td>0.0</td>\n",
       "      <td>0.0</td>\n",
       "      <td>0</td>\n",
       "      <td>469.5</td>\n",
       "      <td>792.985</td>\n",
       "      <td>850.93</td>\n",
       "    </tr>\n",
       "    <tr>\n",
       "      <th>15</th>\n",
       "      <td>15</td>\n",
       "      <td>0.0</td>\n",
       "      <td>0.0</td>\n",
       "      <td>0.0</td>\n",
       "      <td>580.549</td>\n",
       "      <td>377.294</td>\n",
       "      <td>338.286</td>\n",
       "      <td>10.43</td>\n",
       "      <td>24.99</td>\n",
       "      <td>194.43</td>\n",
       "      <td>...</td>\n",
       "      <td>0</td>\n",
       "      <td>0</td>\n",
       "      <td>602</td>\n",
       "      <td>0.0</td>\n",
       "      <td>0.0</td>\n",
       "      <td>0.0</td>\n",
       "      <td>0</td>\n",
       "      <td>527.0</td>\n",
       "      <td>1082.825</td>\n",
       "      <td>560.82</td>\n",
       "    </tr>\n",
       "    <tr>\n",
       "      <th>23</th>\n",
       "      <td>23</td>\n",
       "      <td>0.0</td>\n",
       "      <td>0.0</td>\n",
       "      <td>0.0</td>\n",
       "      <td>1130.948</td>\n",
       "      <td>905.506</td>\n",
       "      <td>479.762</td>\n",
       "      <td>859.53</td>\n",
       "      <td>372.71</td>\n",
       "      <td>0.89</td>\n",
       "      <td>...</td>\n",
       "      <td>0</td>\n",
       "      <td>0</td>\n",
       "      <td>455</td>\n",
       "      <td>0.0</td>\n",
       "      <td>0.0</td>\n",
       "      <td>0.0</td>\n",
       "      <td>0</td>\n",
       "      <td>1205.0</td>\n",
       "      <td>931.145</td>\n",
       "      <td>1751.53</td>\n",
       "    </tr>\n",
       "    <tr>\n",
       "      <th>24</th>\n",
       "      <td>24</td>\n",
       "      <td>0.0</td>\n",
       "      <td>0.0</td>\n",
       "      <td>0.0</td>\n",
       "      <td>371.974</td>\n",
       "      <td>352.069</td>\n",
       "      <td>240.449</td>\n",
       "      <td>93.18</td>\n",
       "      <td>38.29</td>\n",
       "      <td>29.86</td>\n",
       "      <td>...</td>\n",
       "      <td>0</td>\n",
       "      <td>0</td>\n",
       "      <td>1219</td>\n",
       "      <td>0.0</td>\n",
       "      <td>0.0</td>\n",
       "      <td>0.0</td>\n",
       "      <td>0</td>\n",
       "      <td>433.5</td>\n",
       "      <td>573.265</td>\n",
       "      <td>854.46</td>\n",
       "    </tr>\n",
       "    <tr>\n",
       "      <th>25</th>\n",
       "      <td>25</td>\n",
       "      <td>0.0</td>\n",
       "      <td>0.0</td>\n",
       "      <td>0.0</td>\n",
       "      <td>362.951</td>\n",
       "      <td>321.763</td>\n",
       "      <td>689.603</td>\n",
       "      <td>193.71</td>\n",
       "      <td>124.53</td>\n",
       "      <td>197.54</td>\n",
       "      <td>...</td>\n",
       "      <td>0</td>\n",
       "      <td>0</td>\n",
       "      <td>2831</td>\n",
       "      <td>0.0</td>\n",
       "      <td>0.0</td>\n",
       "      <td>0.0</td>\n",
       "      <td>0</td>\n",
       "      <td>405.0</td>\n",
       "      <td>918.780</td>\n",
       "      <td>1018.32</td>\n",
       "    </tr>\n",
       "  </tbody>\n",
       "</table>\n",
       "<p>5 rows × 138 columns</p>\n",
       "</div>"
      ],
      "text/plain": [
       "    id  loc_og_t2o_mou  std_og_t2o_mou  loc_ic_t2o_mou    arpu_6   arpu_7  \\\n",
       "12  12             0.0             0.0             0.0   439.919  397.946   \n",
       "15  15             0.0             0.0             0.0   580.549  377.294   \n",
       "23  23             0.0             0.0             0.0  1130.948  905.506   \n",
       "24  24             0.0             0.0             0.0   371.974  352.069   \n",
       "25  25             0.0             0.0             0.0   362.951  321.763   \n",
       "\n",
       "     arpu_8  onnet_mou_6  onnet_mou_7  onnet_mou_8  ...  sachet_3g_7  \\\n",
       "12  392.024       244.46       108.31        42.98  ...            0   \n",
       "15  338.286        10.43        24.99       194.43  ...            0   \n",
       "23  479.762       859.53       372.71         0.89  ...            0   \n",
       "24  240.449        93.18        38.29        29.86  ...            0   \n",
       "25  689.603       193.71       124.53       197.54  ...            0   \n",
       "\n",
       "    sachet_3g_8   aon  aug_vbc_3g  jul_vbc_3g  jun_vbc_3g  churn_probability  \\\n",
       "12            0   322         0.0         0.0         0.0                  0   \n",
       "15            0   602         0.0         0.0         0.0                  0   \n",
       "23            0   455         0.0         0.0         0.0                  0   \n",
       "24            0  1219         0.0         0.0         0.0                  0   \n",
       "25            0  2831         0.0         0.0         0.0                  0   \n",
       "\n",
       "    avg_rech_amt_6_7  avg_mou_action  total_mou_good  \n",
       "12             469.5         792.985          850.93  \n",
       "15             527.0        1082.825          560.82  \n",
       "23            1205.0         931.145         1751.53  \n",
       "24             433.5         573.265          854.46  \n",
       "25             405.0         918.780         1018.32  \n",
       "\n",
       "[5 rows x 138 columns]"
      ]
     },
     "execution_count": 100,
     "metadata": {},
     "output_type": "execute_result"
    }
   ],
   "source": [
    "df_filter.head()"
   ]
  },
  {
   "cell_type": "code",
   "execution_count": 101,
   "id": "0edba303",
   "metadata": {},
   "outputs": [
    {
     "name": "stderr",
     "output_type": "stream",
     "text": [
      "C:\\Users\\jayshree.singh@sap.com\\AppData\\Local\\Temp\\ipykernel_23568\\4114956499.py:2: SettingWithCopyWarning: \n",
      "A value is trying to be set on a copy of a slice from a DataFrame.\n",
      "Try using .loc[row_indexer,col_indexer] = value instead\n",
      "\n",
      "See the caveats in the documentation: https://pandas.pydata.org/pandas-docs/stable/user_guide/indexing.html#returning-a-view-versus-a-copy\n",
      "  df_filter['diff_mou'] = df_filter['avg_mou_action'] - df_filter['total_mou_good']\n",
      "C:\\Users\\jayshree.singh@sap.com\\AppData\\Local\\Temp\\ipykernel_23568\\4114956499.py:3: SettingWithCopyWarning: \n",
      "A value is trying to be set on a copy of a slice from a DataFrame.\n",
      "Try using .loc[row_indexer,col_indexer] = value instead\n",
      "\n",
      "See the caveats in the documentation: https://pandas.pydata.org/pandas-docs/stable/user_guide/indexing.html#returning-a-view-versus-a-copy\n",
      "  df_filter['decrease_mou'] = np.where((df_filter['diff_mou'] < 0), 1, 0)\n"
     ]
    }
   ],
   "source": [
    "## first find difference avg and total, then tag 0 or 1 based on increase or decrease\n",
    "df_filter['diff_mou'] = df_filter['avg_mou_action'] - df_filter['total_mou_good']\n",
    "df_filter['decrease_mou'] = np.where((df_filter['diff_mou'] < 0), 1, 0)"
   ]
  },
  {
   "cell_type": "markdown",
   "id": "bfa99ca9",
   "metadata": {},
   "source": [
    "decrease_rech_amt"
   ]
  },
  {
   "cell_type": "code",
   "execution_count": 102,
   "id": "5de50d1a",
   "metadata": {},
   "outputs": [
    {
     "name": "stderr",
     "output_type": "stream",
     "text": [
      "C:\\Users\\jayshree.singh@sap.com\\AppData\\Local\\Temp\\ipykernel_23568\\55648182.py:4: SettingWithCopyWarning: \n",
      "A value is trying to be set on a copy of a slice from a DataFrame.\n",
      "Try using .loc[row_indexer,col_indexer] = value instead\n",
      "\n",
      "See the caveats in the documentation: https://pandas.pydata.org/pandas-docs/stable/user_guide/indexing.html#returning-a-view-versus-a-copy\n",
      "  df_filter['avg_rech_num'] = (df_filter['total_rech_num_7'] + df_filter['total_rech_num_8'])/2\n",
      "C:\\Users\\jayshree.singh@sap.com\\AppData\\Local\\Temp\\ipykernel_23568\\55648182.py:5: SettingWithCopyWarning: \n",
      "A value is trying to be set on a copy of a slice from a DataFrame.\n",
      "Try using .loc[row_indexer,col_indexer] = value instead\n",
      "\n",
      "See the caveats in the documentation: https://pandas.pydata.org/pandas-docs/stable/user_guide/indexing.html#returning-a-view-versus-a-copy\n",
      "  df_filter['diff_rech_num'] = df_filter['avg_rech_num'] - df_filter['total_rech_num_6']\n",
      "C:\\Users\\jayshree.singh@sap.com\\AppData\\Local\\Temp\\ipykernel_23568\\55648182.py:6: SettingWithCopyWarning: \n",
      "A value is trying to be set on a copy of a slice from a DataFrame.\n",
      "Try using .loc[row_indexer,col_indexer] = value instead\n",
      "\n",
      "See the caveats in the documentation: https://pandas.pydata.org/pandas-docs/stable/user_guide/indexing.html#returning-a-view-versus-a-copy\n",
      "  df_filter['decrease_rech_num'] = np.where((df_filter['diff_rech_num'] < 0), 1, 0)\n"
     ]
    }
   ],
   "source": [
    "#1.  Avg rech number at action phase\n",
    "#2. find difference between rech amnt and  total_rech_num_6\n",
    "#3. then tag 0 or 1 based on increase or decrease\n",
    "df_filter['avg_rech_num'] = (df_filter['total_rech_num_7'] + df_filter['total_rech_num_8'])/2\n",
    "df_filter['diff_rech_num'] = df_filter['avg_rech_num'] - df_filter['total_rech_num_6']\n",
    "df_filter['decrease_rech_num'] = np.where((df_filter['diff_rech_num'] < 0), 1, 0)"
   ]
  },
  {
   "cell_type": "code",
   "execution_count": 103,
   "id": "3222ae78",
   "metadata": {},
   "outputs": [
    {
     "data": {
      "text/html": [
       "<div>\n",
       "<style scoped>\n",
       "    .dataframe tbody tr th:only-of-type {\n",
       "        vertical-align: middle;\n",
       "    }\n",
       "\n",
       "    .dataframe tbody tr th {\n",
       "        vertical-align: top;\n",
       "    }\n",
       "\n",
       "    .dataframe thead th {\n",
       "        text-align: right;\n",
       "    }\n",
       "</style>\n",
       "<table border=\"1\" class=\"dataframe\">\n",
       "  <thead>\n",
       "    <tr style=\"text-align: right;\">\n",
       "      <th></th>\n",
       "      <th>id</th>\n",
       "      <th>loc_og_t2o_mou</th>\n",
       "      <th>std_og_t2o_mou</th>\n",
       "      <th>loc_ic_t2o_mou</th>\n",
       "      <th>arpu_6</th>\n",
       "      <th>arpu_7</th>\n",
       "      <th>arpu_8</th>\n",
       "      <th>onnet_mou_6</th>\n",
       "      <th>onnet_mou_7</th>\n",
       "      <th>onnet_mou_8</th>\n",
       "      <th>...</th>\n",
       "      <th>jun_vbc_3g</th>\n",
       "      <th>churn_probability</th>\n",
       "      <th>avg_rech_amt_6_7</th>\n",
       "      <th>avg_mou_action</th>\n",
       "      <th>total_mou_good</th>\n",
       "      <th>diff_mou</th>\n",
       "      <th>decrease_mou</th>\n",
       "      <th>avg_rech_num</th>\n",
       "      <th>diff_rech_num</th>\n",
       "      <th>decrease_rech_num</th>\n",
       "    </tr>\n",
       "  </thead>\n",
       "  <tbody>\n",
       "    <tr>\n",
       "      <th>12</th>\n",
       "      <td>12</td>\n",
       "      <td>0.0</td>\n",
       "      <td>0.0</td>\n",
       "      <td>0.0</td>\n",
       "      <td>439.919</td>\n",
       "      <td>397.946</td>\n",
       "      <td>392.024</td>\n",
       "      <td>244.46</td>\n",
       "      <td>108.31</td>\n",
       "      <td>42.98</td>\n",
       "      <td>...</td>\n",
       "      <td>0.0</td>\n",
       "      <td>0</td>\n",
       "      <td>469.5</td>\n",
       "      <td>792.985</td>\n",
       "      <td>850.93</td>\n",
       "      <td>-57.945</td>\n",
       "      <td>1</td>\n",
       "      <td>15.0</td>\n",
       "      <td>0.0</td>\n",
       "      <td>0</td>\n",
       "    </tr>\n",
       "    <tr>\n",
       "      <th>15</th>\n",
       "      <td>15</td>\n",
       "      <td>0.0</td>\n",
       "      <td>0.0</td>\n",
       "      <td>0.0</td>\n",
       "      <td>580.549</td>\n",
       "      <td>377.294</td>\n",
       "      <td>338.286</td>\n",
       "      <td>10.43</td>\n",
       "      <td>24.99</td>\n",
       "      <td>194.43</td>\n",
       "      <td>...</td>\n",
       "      <td>0.0</td>\n",
       "      <td>0</td>\n",
       "      <td>527.0</td>\n",
       "      <td>1082.825</td>\n",
       "      <td>560.82</td>\n",
       "      <td>522.005</td>\n",
       "      <td>0</td>\n",
       "      <td>3.5</td>\n",
       "      <td>-1.5</td>\n",
       "      <td>1</td>\n",
       "    </tr>\n",
       "    <tr>\n",
       "      <th>23</th>\n",
       "      <td>23</td>\n",
       "      <td>0.0</td>\n",
       "      <td>0.0</td>\n",
       "      <td>0.0</td>\n",
       "      <td>1130.948</td>\n",
       "      <td>905.506</td>\n",
       "      <td>479.762</td>\n",
       "      <td>859.53</td>\n",
       "      <td>372.71</td>\n",
       "      <td>0.89</td>\n",
       "      <td>...</td>\n",
       "      <td>0.0</td>\n",
       "      <td>0</td>\n",
       "      <td>1205.0</td>\n",
       "      <td>931.145</td>\n",
       "      <td>1751.53</td>\n",
       "      <td>-820.385</td>\n",
       "      <td>1</td>\n",
       "      <td>14.5</td>\n",
       "      <td>-11.5</td>\n",
       "      <td>1</td>\n",
       "    </tr>\n",
       "    <tr>\n",
       "      <th>24</th>\n",
       "      <td>24</td>\n",
       "      <td>0.0</td>\n",
       "      <td>0.0</td>\n",
       "      <td>0.0</td>\n",
       "      <td>371.974</td>\n",
       "      <td>352.069</td>\n",
       "      <td>240.449</td>\n",
       "      <td>93.18</td>\n",
       "      <td>38.29</td>\n",
       "      <td>29.86</td>\n",
       "      <td>...</td>\n",
       "      <td>0.0</td>\n",
       "      <td>0</td>\n",
       "      <td>433.5</td>\n",
       "      <td>573.265</td>\n",
       "      <td>854.46</td>\n",
       "      <td>-281.195</td>\n",
       "      <td>1</td>\n",
       "      <td>8.5</td>\n",
       "      <td>1.5</td>\n",
       "      <td>0</td>\n",
       "    </tr>\n",
       "    <tr>\n",
       "      <th>25</th>\n",
       "      <td>25</td>\n",
       "      <td>0.0</td>\n",
       "      <td>0.0</td>\n",
       "      <td>0.0</td>\n",
       "      <td>362.951</td>\n",
       "      <td>321.763</td>\n",
       "      <td>689.603</td>\n",
       "      <td>193.71</td>\n",
       "      <td>124.53</td>\n",
       "      <td>197.54</td>\n",
       "      <td>...</td>\n",
       "      <td>0.0</td>\n",
       "      <td>0</td>\n",
       "      <td>405.0</td>\n",
       "      <td>918.780</td>\n",
       "      <td>1018.32</td>\n",
       "      <td>-99.540</td>\n",
       "      <td>1</td>\n",
       "      <td>8.0</td>\n",
       "      <td>0.0</td>\n",
       "      <td>0</td>\n",
       "    </tr>\n",
       "  </tbody>\n",
       "</table>\n",
       "<p>5 rows × 143 columns</p>\n",
       "</div>"
      ],
      "text/plain": [
       "    id  loc_og_t2o_mou  std_og_t2o_mou  loc_ic_t2o_mou    arpu_6   arpu_7  \\\n",
       "12  12             0.0             0.0             0.0   439.919  397.946   \n",
       "15  15             0.0             0.0             0.0   580.549  377.294   \n",
       "23  23             0.0             0.0             0.0  1130.948  905.506   \n",
       "24  24             0.0             0.0             0.0   371.974  352.069   \n",
       "25  25             0.0             0.0             0.0   362.951  321.763   \n",
       "\n",
       "     arpu_8  onnet_mou_6  onnet_mou_7  onnet_mou_8  ...  jun_vbc_3g  \\\n",
       "12  392.024       244.46       108.31        42.98  ...         0.0   \n",
       "15  338.286        10.43        24.99       194.43  ...         0.0   \n",
       "23  479.762       859.53       372.71         0.89  ...         0.0   \n",
       "24  240.449        93.18        38.29        29.86  ...         0.0   \n",
       "25  689.603       193.71       124.53       197.54  ...         0.0   \n",
       "\n",
       "    churn_probability  avg_rech_amt_6_7  avg_mou_action  total_mou_good  \\\n",
       "12                  0             469.5         792.985          850.93   \n",
       "15                  0             527.0        1082.825          560.82   \n",
       "23                  0            1205.0         931.145         1751.53   \n",
       "24                  0             433.5         573.265          854.46   \n",
       "25                  0             405.0         918.780         1018.32   \n",
       "\n",
       "    diff_mou  decrease_mou  avg_rech_num  diff_rech_num  decrease_rech_num  \n",
       "12   -57.945             1          15.0            0.0                  0  \n",
       "15   522.005             0           3.5           -1.5                  1  \n",
       "23  -820.385             1          14.5          -11.5                  1  \n",
       "24  -281.195             1           8.5            1.5                  0  \n",
       "25   -99.540             1           8.0            0.0                  0  \n",
       "\n",
       "[5 rows x 143 columns]"
      ]
     },
     "execution_count": 103,
     "metadata": {},
     "output_type": "execute_result"
    }
   ],
   "source": [
    "df_filter.head()"
   ]
  },
  {
   "cell_type": "markdown",
   "id": "f3148cd4",
   "metadata": {},
   "source": [
    "decrease_arpu"
   ]
  },
  {
   "cell_type": "code",
   "execution_count": 104,
   "id": "407352b0",
   "metadata": {},
   "outputs": [
    {
     "name": "stderr",
     "output_type": "stream",
     "text": [
      "C:\\Users\\jayshree.singh@sap.com\\AppData\\Local\\Temp\\ipykernel_23568\\3090564377.py:5: SettingWithCopyWarning: \n",
      "A value is trying to be set on a copy of a slice from a DataFrame.\n",
      "Try using .loc[row_indexer,col_indexer] = value instead\n",
      "\n",
      "See the caveats in the documentation: https://pandas.pydata.org/pandas-docs/stable/user_guide/indexing.html#returning-a-view-versus-a-copy\n",
      "  df_filter['avg_arpu'] = (df_filter['arpu_7'] + df_filter['arpu_8'])/2\n",
      "C:\\Users\\jayshree.singh@sap.com\\AppData\\Local\\Temp\\ipykernel_23568\\3090564377.py:6: SettingWithCopyWarning: \n",
      "A value is trying to be set on a copy of a slice from a DataFrame.\n",
      "Try using .loc[row_indexer,col_indexer] = value instead\n",
      "\n",
      "See the caveats in the documentation: https://pandas.pydata.org/pandas-docs/stable/user_guide/indexing.html#returning-a-view-versus-a-copy\n",
      "  df_filter['diff_arpu'] = df_filter['avg_arpu'] - df_filter['arpu_6']\n",
      "C:\\Users\\jayshree.singh@sap.com\\AppData\\Local\\Temp\\ipykernel_23568\\3090564377.py:7: SettingWithCopyWarning: \n",
      "A value is trying to be set on a copy of a slice from a DataFrame.\n",
      "Try using .loc[row_indexer,col_indexer] = value instead\n",
      "\n",
      "See the caveats in the documentation: https://pandas.pydata.org/pandas-docs/stable/user_guide/indexing.html#returning-a-view-versus-a-copy\n",
      "  df_filter['decrease_arpu'] = np.where((df_filter['diff_arpu'] < 0), 1, 0)\n"
     ]
    }
   ],
   "source": [
    "#1. avg arpu og good\n",
    "#2. difference of good and current arpu\n",
    "#3. then tag 0 or 1 based on increase or decrease\n",
    "\n",
    "df_filter['avg_arpu'] = (df_filter['arpu_7'] + df_filter['arpu_8'])/2\n",
    "df_filter['diff_arpu'] = df_filter['avg_arpu'] - df_filter['arpu_6']\n",
    "df_filter['decrease_arpu'] = np.where((df_filter['diff_arpu'] < 0), 1, 0)"
   ]
  },
  {
   "cell_type": "code",
   "execution_count": 105,
   "id": "5940d458",
   "metadata": {},
   "outputs": [
    {
     "data": {
      "text/html": [
       "<div>\n",
       "<style scoped>\n",
       "    .dataframe tbody tr th:only-of-type {\n",
       "        vertical-align: middle;\n",
       "    }\n",
       "\n",
       "    .dataframe tbody tr th {\n",
       "        vertical-align: top;\n",
       "    }\n",
       "\n",
       "    .dataframe thead th {\n",
       "        text-align: right;\n",
       "    }\n",
       "</style>\n",
       "<table border=\"1\" class=\"dataframe\">\n",
       "  <thead>\n",
       "    <tr style=\"text-align: right;\">\n",
       "      <th></th>\n",
       "      <th>id</th>\n",
       "      <th>loc_og_t2o_mou</th>\n",
       "      <th>std_og_t2o_mou</th>\n",
       "      <th>loc_ic_t2o_mou</th>\n",
       "      <th>arpu_6</th>\n",
       "      <th>arpu_7</th>\n",
       "      <th>arpu_8</th>\n",
       "      <th>onnet_mou_6</th>\n",
       "      <th>onnet_mou_7</th>\n",
       "      <th>onnet_mou_8</th>\n",
       "      <th>...</th>\n",
       "      <th>avg_mou_action</th>\n",
       "      <th>total_mou_good</th>\n",
       "      <th>diff_mou</th>\n",
       "      <th>decrease_mou</th>\n",
       "      <th>avg_rech_num</th>\n",
       "      <th>diff_rech_num</th>\n",
       "      <th>decrease_rech_num</th>\n",
       "      <th>avg_arpu</th>\n",
       "      <th>diff_arpu</th>\n",
       "      <th>decrease_arpu</th>\n",
       "    </tr>\n",
       "  </thead>\n",
       "  <tbody>\n",
       "    <tr>\n",
       "      <th>12</th>\n",
       "      <td>12</td>\n",
       "      <td>0.0</td>\n",
       "      <td>0.0</td>\n",
       "      <td>0.0</td>\n",
       "      <td>439.919</td>\n",
       "      <td>397.946</td>\n",
       "      <td>392.024</td>\n",
       "      <td>244.46</td>\n",
       "      <td>108.31</td>\n",
       "      <td>42.98</td>\n",
       "      <td>...</td>\n",
       "      <td>792.985</td>\n",
       "      <td>850.93</td>\n",
       "      <td>-57.945</td>\n",
       "      <td>1</td>\n",
       "      <td>15.0</td>\n",
       "      <td>0.0</td>\n",
       "      <td>0</td>\n",
       "      <td>394.985</td>\n",
       "      <td>-44.934</td>\n",
       "      <td>1</td>\n",
       "    </tr>\n",
       "    <tr>\n",
       "      <th>15</th>\n",
       "      <td>15</td>\n",
       "      <td>0.0</td>\n",
       "      <td>0.0</td>\n",
       "      <td>0.0</td>\n",
       "      <td>580.549</td>\n",
       "      <td>377.294</td>\n",
       "      <td>338.286</td>\n",
       "      <td>10.43</td>\n",
       "      <td>24.99</td>\n",
       "      <td>194.43</td>\n",
       "      <td>...</td>\n",
       "      <td>1082.825</td>\n",
       "      <td>560.82</td>\n",
       "      <td>522.005</td>\n",
       "      <td>0</td>\n",
       "      <td>3.5</td>\n",
       "      <td>-1.5</td>\n",
       "      <td>1</td>\n",
       "      <td>357.790</td>\n",
       "      <td>-222.759</td>\n",
       "      <td>1</td>\n",
       "    </tr>\n",
       "    <tr>\n",
       "      <th>23</th>\n",
       "      <td>23</td>\n",
       "      <td>0.0</td>\n",
       "      <td>0.0</td>\n",
       "      <td>0.0</td>\n",
       "      <td>1130.948</td>\n",
       "      <td>905.506</td>\n",
       "      <td>479.762</td>\n",
       "      <td>859.53</td>\n",
       "      <td>372.71</td>\n",
       "      <td>0.89</td>\n",
       "      <td>...</td>\n",
       "      <td>931.145</td>\n",
       "      <td>1751.53</td>\n",
       "      <td>-820.385</td>\n",
       "      <td>1</td>\n",
       "      <td>14.5</td>\n",
       "      <td>-11.5</td>\n",
       "      <td>1</td>\n",
       "      <td>692.634</td>\n",
       "      <td>-438.314</td>\n",
       "      <td>1</td>\n",
       "    </tr>\n",
       "    <tr>\n",
       "      <th>24</th>\n",
       "      <td>24</td>\n",
       "      <td>0.0</td>\n",
       "      <td>0.0</td>\n",
       "      <td>0.0</td>\n",
       "      <td>371.974</td>\n",
       "      <td>352.069</td>\n",
       "      <td>240.449</td>\n",
       "      <td>93.18</td>\n",
       "      <td>38.29</td>\n",
       "      <td>29.86</td>\n",
       "      <td>...</td>\n",
       "      <td>573.265</td>\n",
       "      <td>854.46</td>\n",
       "      <td>-281.195</td>\n",
       "      <td>1</td>\n",
       "      <td>8.5</td>\n",
       "      <td>1.5</td>\n",
       "      <td>0</td>\n",
       "      <td>296.259</td>\n",
       "      <td>-75.715</td>\n",
       "      <td>1</td>\n",
       "    </tr>\n",
       "    <tr>\n",
       "      <th>25</th>\n",
       "      <td>25</td>\n",
       "      <td>0.0</td>\n",
       "      <td>0.0</td>\n",
       "      <td>0.0</td>\n",
       "      <td>362.951</td>\n",
       "      <td>321.763</td>\n",
       "      <td>689.603</td>\n",
       "      <td>193.71</td>\n",
       "      <td>124.53</td>\n",
       "      <td>197.54</td>\n",
       "      <td>...</td>\n",
       "      <td>918.780</td>\n",
       "      <td>1018.32</td>\n",
       "      <td>-99.540</td>\n",
       "      <td>1</td>\n",
       "      <td>8.0</td>\n",
       "      <td>0.0</td>\n",
       "      <td>0</td>\n",
       "      <td>505.683</td>\n",
       "      <td>142.732</td>\n",
       "      <td>0</td>\n",
       "    </tr>\n",
       "  </tbody>\n",
       "</table>\n",
       "<p>5 rows × 146 columns</p>\n",
       "</div>"
      ],
      "text/plain": [
       "    id  loc_og_t2o_mou  std_og_t2o_mou  loc_ic_t2o_mou    arpu_6   arpu_7  \\\n",
       "12  12             0.0             0.0             0.0   439.919  397.946   \n",
       "15  15             0.0             0.0             0.0   580.549  377.294   \n",
       "23  23             0.0             0.0             0.0  1130.948  905.506   \n",
       "24  24             0.0             0.0             0.0   371.974  352.069   \n",
       "25  25             0.0             0.0             0.0   362.951  321.763   \n",
       "\n",
       "     arpu_8  onnet_mou_6  onnet_mou_7  onnet_mou_8  ...  avg_mou_action  \\\n",
       "12  392.024       244.46       108.31        42.98  ...         792.985   \n",
       "15  338.286        10.43        24.99       194.43  ...        1082.825   \n",
       "23  479.762       859.53       372.71         0.89  ...         931.145   \n",
       "24  240.449        93.18        38.29        29.86  ...         573.265   \n",
       "25  689.603       193.71       124.53       197.54  ...         918.780   \n",
       "\n",
       "    total_mou_good  diff_mou  decrease_mou  avg_rech_num  diff_rech_num  \\\n",
       "12          850.93   -57.945             1          15.0            0.0   \n",
       "15          560.82   522.005             0           3.5           -1.5   \n",
       "23         1751.53  -820.385             1          14.5          -11.5   \n",
       "24          854.46  -281.195             1           8.5            1.5   \n",
       "25         1018.32   -99.540             1           8.0            0.0   \n",
       "\n",
       "    decrease_rech_num  avg_arpu  diff_arpu  decrease_arpu  \n",
       "12                  0   394.985    -44.934              1  \n",
       "15                  1   357.790   -222.759              1  \n",
       "23                  1   692.634   -438.314              1  \n",
       "24                  0   296.259    -75.715              1  \n",
       "25                  0   505.683    142.732              0  \n",
       "\n",
       "[5 rows x 146 columns]"
      ]
     },
     "execution_count": 105,
     "metadata": {},
     "output_type": "execute_result"
    }
   ],
   "source": [
    "df_filter.head()"
   ]
  },
  {
   "cell_type": "markdown",
   "id": "f901c51e",
   "metadata": {},
   "source": [
    "decrease_vbc"
   ]
  },
  {
   "cell_type": "code",
   "execution_count": 106,
   "id": "85d21c73",
   "metadata": {},
   "outputs": [
    {
     "name": "stderr",
     "output_type": "stream",
     "text": [
      "C:\\Users\\jayshree.singh@sap.com\\AppData\\Local\\Temp\\ipykernel_23568\\1725244326.py:5: SettingWithCopyWarning: \n",
      "A value is trying to be set on a copy of a slice from a DataFrame.\n",
      "Try using .loc[row_indexer,col_indexer] = value instead\n",
      "\n",
      "See the caveats in the documentation: https://pandas.pydata.org/pandas-docs/stable/user_guide/indexing.html#returning-a-view-versus-a-copy\n",
      "  df_filter['avg_vbc'] = (df_filter['jul_vbc_3g'] + df_filter['aug_vbc_3g'])/2\n",
      "C:\\Users\\jayshree.singh@sap.com\\AppData\\Local\\Temp\\ipykernel_23568\\1725244326.py:6: SettingWithCopyWarning: \n",
      "A value is trying to be set on a copy of a slice from a DataFrame.\n",
      "Try using .loc[row_indexer,col_indexer] = value instead\n",
      "\n",
      "See the caveats in the documentation: https://pandas.pydata.org/pandas-docs/stable/user_guide/indexing.html#returning-a-view-versus-a-copy\n",
      "  df_filter['diff_vbc'] = df_filter['avg_vbc'] - df_filter['jun_vbc_3g']\n",
      "C:\\Users\\jayshree.singh@sap.com\\AppData\\Local\\Temp\\ipykernel_23568\\1725244326.py:7: SettingWithCopyWarning: \n",
      "A value is trying to be set on a copy of a slice from a DataFrame.\n",
      "Try using .loc[row_indexer,col_indexer] = value instead\n",
      "\n",
      "See the caveats in the documentation: https://pandas.pydata.org/pandas-docs/stable/user_guide/indexing.html#returning-a-view-versus-a-copy\n",
      "  df_filter['decrease_vbc'] = np.where((df_filter['diff_vbc'] < 0), 1, 0)\n"
     ]
    }
   ],
   "source": [
    "##1. avg vbc of jul and aug\n",
    "#2. difference of avb vbc and jun vbc\n",
    "#3. then tag 0 or 1 based on increase or decrease\n",
    "\n",
    "df_filter['avg_vbc'] = (df_filter['jul_vbc_3g'] + df_filter['aug_vbc_3g'])/2\n",
    "df_filter['diff_vbc'] = df_filter['avg_vbc'] - df_filter['jun_vbc_3g']\n",
    "df_filter['decrease_vbc'] = np.where((df_filter['diff_vbc'] < 0), 1, 0)\n"
   ]
  },
  {
   "cell_type": "markdown",
   "id": "69bdd2ae",
   "metadata": {},
   "source": [
    "avg_rech_amt_action"
   ]
  },
  {
   "cell_type": "code",
   "execution_count": 115,
   "id": "9d7c1da4",
   "metadata": {},
   "outputs": [
    {
     "name": "stderr",
     "output_type": "stream",
     "text": [
      "C:\\Users\\jayshree.singh@sap.com\\AppData\\Local\\Temp\\ipykernel_23568\\720689664.py:2: SettingWithCopyWarning: \n",
      "A value is trying to be set on a copy of a slice from a DataFrame.\n",
      "Try using .loc[row_indexer,col_indexer] = value instead\n",
      "\n",
      "See the caveats in the documentation: https://pandas.pydata.org/pandas-docs/stable/user_guide/indexing.html#returning-a-view-versus-a-copy\n",
      "  df_filter['avg_rech_amt_action'] = (df_filter['total_rech_amt_7'] + df_filter['total_rech_amt_8'])/2\n"
     ]
    }
   ],
   "source": [
    "# Avg rech_amt in action phase\n",
    "df_filter['avg_rech_amt_action'] = (df_filter['total_rech_amt_7'] + df_filter['total_rech_amt_8'])/2"
   ]
  },
  {
   "cell_type": "code",
   "execution_count": 116,
   "id": "4a56e172",
   "metadata": {},
   "outputs": [
    {
     "name": "stderr",
     "output_type": "stream",
     "text": [
      "C:\\Users\\jayshree.singh@sap.com\\AppData\\Local\\Temp\\ipykernel_23568\\4233458363.py:2: SettingWithCopyWarning: \n",
      "A value is trying to be set on a copy of a slice from a DataFrame.\n",
      "Try using .loc[row_indexer,col_indexer] = value instead\n",
      "\n",
      "See the caveats in the documentation: https://pandas.pydata.org/pandas-docs/stable/user_guide/indexing.html#returning-a-view-versus-a-copy\n",
      "  df_filter['diff_rech_amt'] = df_filter['avg_rech_amt_action'] - df_filter['total_rech_amt_6']\n"
     ]
    }
   ],
   "source": [
    "# Difference of action phase rech amt and good phase rech amt\n",
    "df_filter['diff_rech_amt'] = df_filter['avg_rech_amt_action'] - df_filter['total_rech_amt_6']"
   ]
  },
  {
   "cell_type": "code",
   "execution_count": 118,
   "id": "d869611f",
   "metadata": {},
   "outputs": [
    {
     "name": "stderr",
     "output_type": "stream",
     "text": [
      "C:\\Users\\jayshree.singh@sap.com\\AppData\\Local\\Temp\\ipykernel_23568\\1580182153.py:2: SettingWithCopyWarning: \n",
      "A value is trying to be set on a copy of a slice from a DataFrame.\n",
      "Try using .loc[row_indexer,col_indexer] = value instead\n",
      "\n",
      "See the caveats in the documentation: https://pandas.pydata.org/pandas-docs/stable/user_guide/indexing.html#returning-a-view-versus-a-copy\n",
      "  df_filter['decrease_rech_amt_action'] = np.where((df_filter['diff_rech_amt'] < 0), 1, 0)\n"
     ]
    }
   ],
   "source": [
    "# Checking if rech_amt has decreased in action phase\n",
    "df_filter['decrease_rech_amt_action'] = np.where((df_filter['diff_rech_amt'] < 0), 1, 0) "
   ]
  },
  {
   "cell_type": "code",
   "execution_count": null,
   "id": "dc8f0235",
   "metadata": {},
   "outputs": [],
   "source": []
  },
  {
   "cell_type": "markdown",
   "id": "19a68ef6",
   "metadata": {},
   "source": [
    "# Visualize data"
   ]
  },
  {
   "cell_type": "markdown",
   "id": "a4ad04d6",
   "metadata": {},
   "source": [
    " Plot bar to visualize churn_probability with all the derived variables"
   ]
  },
  {
   "cell_type": "code",
   "execution_count": 107,
   "id": "61c613f7",
   "metadata": {},
   "outputs": [
    {
     "data": {
      "image/png": "[encoded data removed]",
      "text/plain": [
       "<Figure size 640x480 with 1 Axes>"
      ]
     },
     "metadata": {},
     "output_type": "display_data"
    }
   ],
   "source": [
    "df_filter.pivot_table(values='churn_probability', index='decrease_mou', aggfunc='mean').plot.bar()\n",
    "plt.ylabel('churn rate')\n",
    "plt.show()"
   ]
  },
  {
   "cell_type": "code",
   "execution_count": 108,
   "id": "c24f73c6",
   "metadata": {},
   "outputs": [
    {
     "data": {
      "image/png": "[encoded data removed]",
      "text/plain": [
       "<Figure size 640x480 with 1 Axes>"
      ]
     },
     "metadata": {},
     "output_type": "display_data"
    }
   ],
   "source": [
    "\n",
    "df_filter.pivot_table(values='churn_probability', index='decrease_rech_num', aggfunc='mean').plot.bar()\n",
    "plt.ylabel('churn rate')\n",
    "plt.show()"
   ]
  },
  {
   "cell_type": "code",
   "execution_count": 109,
   "id": "3bb8e942",
   "metadata": {},
   "outputs": [
    {
     "data": {
      "image/png": "[encoded data removed]",
      "text/plain": [
       "<Figure size 640x480 with 1 Axes>"
      ]
     },
     "metadata": {},
     "output_type": "display_data"
    }
   ],
   "source": [
    "df_filter.pivot_table(values='churn_probability', index='decrease_arpu', aggfunc='mean').plot.bar()\n",
    "plt.ylabel('churn rate')\n",
    "plt.show()"
   ]
  },
  {
   "cell_type": "code",
   "execution_count": 110,
   "id": "777c47b0",
   "metadata": {},
   "outputs": [
    {
     "data": {
      "image/png": "[encoded data removed]",
      "text/plain": [
       "<Figure size 640x480 with 1 Axes>"
      ]
     },
     "metadata": {},
     "output_type": "display_data"
    }
   ],
   "source": [
    "df_filter.pivot_table(values='churn_probability', index='decrease_vbc', aggfunc='mean').plot.bar()\n",
    "plt.ylabel('churn rate')\n",
    "plt.show()"
   ]
  },
  {
   "cell_type": "markdown",
   "id": "caf9361a",
   "metadata": {},
   "source": [
    "# Analysis\n",
    "\n",
    "1. We can see that the churn rate is more for the customers, whose minutes of usage(mou) decreased in the action phase than the good phase and same we see for number of rechanrges.\n",
    "4. we see that he churn rate is more for the customers, whose volume based cost in action month is increased. This means the customers not doing the monthly recharge more when they are in the action phase."
   ]
  },
  {
   "cell_type": "code",
   "execution_count": 126,
   "id": "02ca7b3f",
   "metadata": {},
   "outputs": [
    {
     "ename": "TypeError",
     "evalue": "scatterplot() takes from 0 to 1 positional arguments but 2 were given",
     "output_type": "error",
     "traceback": [
      "\u001b[1;31m---------------------------------------------------------------------------\u001b[0m",
      "\u001b[1;31mTypeError\u001b[0m                                 Traceback (most recent call last)",
      "Cell \u001b[1;32mIn[126], line 5\u001b[0m\n\u001b[0;32m      2\u001b[0m \u001b[38;5;28;01mimport\u001b[39;00m \u001b[38;5;21;01mseaborn\u001b[39;00m \u001b[38;5;28;01mas\u001b[39;00m \u001b[38;5;21;01msns\u001b[39;00m\n\u001b[0;32m      4\u001b[0m plt\u001b[38;5;241m.\u001b[39mfigure(figsize\u001b[38;5;241m=\u001b[39m(\u001b[38;5;241m10\u001b[39m,\u001b[38;5;241m6\u001b[39m))\n\u001b[1;32m----> 5\u001b[0m ax \u001b[38;5;241m=\u001b[39m \u001b[43msns\u001b[49m\u001b[38;5;241;43m.\u001b[39;49m\u001b[43mscatterplot\u001b[49m\u001b[43m(\u001b[49m\u001b[43mdf_filter\u001b[49m\u001b[38;5;241;43m.\u001b[39;49m\u001b[43mavg_rech_num\u001b[49m\u001b[43m,\u001b[49m\u001b[43m \u001b[49m\u001b[43mdf_filter\u001b[49m\u001b[38;5;241;43m.\u001b[39;49m\u001b[43mavg_rech_amt_action\u001b[49m\u001b[43m)\u001b[49m\n\u001b[0;32m      6\u001b[0m plt\u001b[38;5;241m.\u001b[39mshow()\n",
      "\u001b[1;31mTypeError\u001b[0m: scatterplot() takes from 0 to 1 positional arguments but 2 were given"
     ]
    },
    {
     "data": {
      "text/plain": [
       "<Figure size 1000x600 with 0 Axes>"
      ]
     },
     "metadata": {},
     "output_type": "display_data"
    }
   ],
   "source": [
    "import matplotlib.pyplot as plt\n",
    "import seaborn as sns\n",
    "\n",
    "plt.figure(figsize=(10,6))\n",
    "ax = sns.scatterplot(df_filter.avg_rech_num, df_filter.avg_rech_amt_action)\n",
    "plt.show()"
   ]
  },
  {
   "cell_type": "code",
   "execution_count": null,
   "id": "d2ffe77a",
   "metadata": {},
   "outputs": [],
   "source": []
  },
  {
   "cell_type": "code",
   "execution_count": null,
   "id": "7bb363e4",
   "metadata": {},
   "outputs": [],
   "source": []
  },
  {
   "cell_type": "markdown",
   "id": "748e7571",
   "metadata": {},
   "source": [
    "# Train-test Split"
   ]
  },
  {
   "cell_type": "markdown",
   "id": "d3098408",
   "metadata": {},
   "source": [
    "## Visualizing data"
   ]
  },
  {
   "cell_type": "code",
   "execution_count": 112,
   "id": "af44ab9d",
   "metadata": {},
   "outputs": [],
   "source": [
    "#%matplotlib inline               \n",
    "#import matplotlib.pyplot as plt\n",
    "\n",
    "#df.hist(bins=50,figsize=(50,50))"
   ]
  },
  {
   "cell_type": "markdown",
   "id": "f05ca18e",
   "metadata": {},
   "source": [
    "# in the above plot "
   ]
  },
  {
   "cell_type": "code",
   "execution_count": null,
   "id": "d0302ac7",
   "metadata": {},
   "outputs": [],
   "source": []
  }
 ],
 "metadata": {
  "kernelspec": {
   "display_name": "Python 3 (ipykernel)",
   "language": "python",
   "name": "python3"
  },
  "language_info": {
   "codemirror_mode": {
    "name": "ipython",
    "version": 3
   },
   "file_extension": ".py",
   "mimetype": "text/x-python",
   "name": "python",
   "nbconvert_exporter": "python",
   "pygments_lexer": "ipython3",
   "version": "3.10.9"
  }
 },
 "nbformat": 4,
 "nbformat_minor": 5
}
